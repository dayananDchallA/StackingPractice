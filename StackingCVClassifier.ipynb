{
  "nbformat": 4,
  "nbformat_minor": 0,
  "metadata": {
    "colab": {
      "name": "StackingCVClassifier.ipynb",
      "version": "0.3.2",
      "provenance": []
    }
  },
  "cells": [
    {
      "cell_type": "markdown",
      "metadata": {
        "id": "view-in-github",
        "colab_type": "text"
      },
      "source": [
        "[View in Colaboratory](https://colab.research.google.com/github/dayananDchallA/StackingPractice/blob/master/StackingCVClassifier.ipynb)"
      ]
    },
    {
      "metadata": {
        "id": "tA4DJ5o2hYx_",
        "colab_type": "text"
      },
      "cell_type": "markdown",
      "source": [
        "# StackingCVClassifier\n",
        "An ensemble-learning meta-classifier for stacking using cross-validation to prepare the inputs for the level-2 classifier to prevent overfitting.\n",
        "\n",
        "from mlxtend.classifier import StackingCVClassifier\n",
        "\n"
      ]
    },
    {
      "metadata": {
        "id": "jaCO4PNqhj5h",
        "colab_type": "text"
      },
      "cell_type": "markdown",
      "source": [
        "## Overview\n",
        "Stacking is an ensemble learning technique to combine multiple classification models via a meta-classifier. The StackingCVClassifier extends the standard stacking algorithm (implemented as StackingClassifier) using cross-validation to prepare the input data for the level-2 classifier.\n",
        "\n",
        "In the standard stacking procedure, the first-level classifiers are fit to the same training set that is used prepare the inputs for the second-level classifier, which may lead to overfitting. The StackingCVClassifier, however, uses the concept of cross-validation: the dataset is split into k folds, and in k successive rounds, k-1 folds are used to fit the first level classifier; in each round, the first-level classifiers are then applied to the remaining 1 subset that was not used for model fitting in each iteration. The resulting predictions are then stacked and provided -- as input data -- to the second-level classifier. After the training of the StackingCVClassifier, the first-level classifiers are fit to the entire dataset"
      ]
    },
    {
      "metadata": {
        "id": "HvGlOJSjiQOw",
        "colab_type": "text"
      },
      "cell_type": "markdown",
      "source": [
        "## Simple Stacking CV Classification"
      ]
    },
    {
      "metadata": {
        "id": "tehVg38ahUlD",
        "colab_type": "code",
        "colab": {}
      },
      "cell_type": "code",
      "source": [
        "from sklearn import datasets\n",
        "\n",
        "iris = datasets.load_iris()\n",
        "X, y = iris.data[:, 1:3], iris.target"
      ],
      "execution_count": 0,
      "outputs": []
    },
    {
      "metadata": {
        "id": "3lX9uftThzFC",
        "colab_type": "code",
        "colab": {
          "base_uri": "https://localhost:8080/",
          "height": 357
        },
        "outputId": "ba013cd2-b12f-4a06-900d-457c30448520"
      },
      "cell_type": "code",
      "source": [
        "!pip install mlxtend"
      ],
      "execution_count": 3,
      "outputs": [
        {
          "output_type": "stream",
          "text": [
            "Collecting mlxtend\n",
            "  Downloading https://files.pythonhosted.org/packages/72/71/544f2af29e8acce302aa8f337397806b5254b442955fd94ef15d84ca6b80/mlxtend-0.11.0-py2.py3-none-any.whl (1.3MB)\n",
            "\u001b[K    100% |████████████████████████████████| 1.3MB 808kB/s \n",
            "\u001b[?25hRequirement already satisfied: setuptools in /usr/local/lib/python2.7/dist-packages (from mlxtend)\n",
            "Requirement already satisfied: scipy>=0.17 in /usr/local/lib/python2.7/dist-packages (from mlxtend)\n",
            "Requirement already satisfied: matplotlib>=1.5.1 in /usr/local/lib/python2.7/dist-packages (from mlxtend)\n",
            "Requirement already satisfied: scikit-learn>=0.18 in /usr/local/lib/python2.7/dist-packages (from mlxtend)\n",
            "Requirement already satisfied: pandas>=0.17.1 in /usr/local/lib/python2.7/dist-packages (from mlxtend)\n",
            "Requirement already satisfied: numpy>=1.10.4 in /usr/local/lib/python2.7/dist-packages (from mlxtend)\n",
            "Requirement already satisfied: cycler>=0.10 in /usr/local/lib/python2.7/dist-packages (from matplotlib>=1.5.1->mlxtend)\n",
            "Requirement already satisfied: backports.functools-lru-cache in /usr/local/lib/python2.7/dist-packages (from matplotlib>=1.5.1->mlxtend)\n",
            "Requirement already satisfied: subprocess32 in /usr/local/lib/python2.7/dist-packages (from matplotlib>=1.5.1->mlxtend)\n",
            "Requirement already satisfied: pytz in /usr/local/lib/python2.7/dist-packages (from matplotlib>=1.5.1->mlxtend)\n",
            "Requirement already satisfied: six>=1.10 in /usr/local/lib/python2.7/dist-packages (from matplotlib>=1.5.1->mlxtend)\n",
            "Requirement already satisfied: python-dateutil>=2.1 in /usr/local/lib/python2.7/dist-packages (from matplotlib>=1.5.1->mlxtend)\n",
            "Requirement already satisfied: pyparsing!=2.0.4,!=2.1.2,!=2.1.6,>=2.0.1 in /usr/local/lib/python2.7/dist-packages (from matplotlib>=1.5.1->mlxtend)\n",
            "Installing collected packages: mlxtend\n",
            "Successfully installed mlxtend-0.11.0\n",
            "\u001b[33mYou are using pip version 9.0.3, however version 10.0.1 is available.\n",
            "You should consider upgrading via the 'pip install --upgrade pip' command.\u001b[0m\n"
          ],
          "name": "stdout"
        }
      ]
    },
    {
      "metadata": {
        "id": "Wbe2_EsThqxv",
        "colab_type": "code",
        "colab": {
          "base_uri": "https://localhost:8080/",
          "height": 119
        },
        "outputId": "9781cd88-d85c-4378-9a40-0e30ef81fcf7"
      },
      "cell_type": "code",
      "source": [
        "from sklearn import model_selection\n",
        "from sklearn.linear_model import LogisticRegression\n",
        "from sklearn.neighbors import KNeighborsClassifier\n",
        "from sklearn.naive_bayes import GaussianNB \n",
        "from sklearn.ensemble import RandomForestClassifier\n",
        "from mlxtend.classifier import StackingCVClassifier\n",
        "import numpy as np\n",
        "\n",
        "RANDOM_SEED = 42\n",
        "\n",
        "clf1 = KNeighborsClassifier(n_neighbors=1)\n",
        "clf2 = RandomForestClassifier(random_state=RANDOM_SEED)\n",
        "clf3 = GaussianNB()\n",
        "lr = LogisticRegression()\n",
        "\n",
        "# The StackingCVClassifier uses scikit-learn's check_cv\n",
        "# internally, which doesn't support a random seed. Thus\n",
        "# NumPy's random seed need to be specified explicitely for\n",
        "# deterministic behavior\n",
        "np.random.seed(RANDOM_SEED)\n",
        "sclf = StackingCVClassifier(classifiers=[clf1, clf2, clf3], \n",
        "                            meta_classifier=lr)\n",
        "\n",
        "print('3-fold cross validation:\\n')\n",
        "\n",
        "for clf, label in zip([clf1, clf2, clf3, sclf], \n",
        "                      ['KNN', \n",
        "                       'Random Forest', \n",
        "                       'Naive Bayes',\n",
        "                       'StackingClassifier']):\n",
        "\n",
        "    scores = model_selection.cross_val_score(clf, X, y, \n",
        "                                              cv=3, scoring='accuracy')\n",
        "    print(\"Accuracy: %0.2f (+/- %0.2f) [%s]\" \n",
        "          % (scores.mean(), scores.std(), label))"
      ],
      "execution_count": 4,
      "outputs": [
        {
          "output_type": "stream",
          "text": [
            "3-fold cross validation:\n",
            "\n",
            "Accuracy: 0.91 (+/- 0.01) [KNN]\n",
            "Accuracy: 0.90 (+/- 0.03) [Random Forest]\n",
            "Accuracy: 0.92 (+/- 0.03) [Naive Bayes]\n",
            "Accuracy: 0.93 (+/- 0.02) [StackingClassifier]\n"
          ],
          "name": "stdout"
        }
      ]
    },
    {
      "metadata": {
        "id": "lhLouWiUhwWS",
        "colab_type": "code",
        "colab": {
          "base_uri": "https://localhost:8080/",
          "height": 498
        },
        "outputId": "bc84ff5a-7b09-4fe5-f693-da7f6dbc9102"
      },
      "cell_type": "code",
      "source": [
        "import matplotlib.pyplot as plt\n",
        "from mlxtend.plotting import plot_decision_regions\n",
        "import matplotlib.gridspec as gridspec\n",
        "import itertools\n",
        "\n",
        "gs = gridspec.GridSpec(2, 2)\n",
        "\n",
        "fig = plt.figure(figsize=(10,8))\n",
        "\n",
        "for clf, lab, grd in zip([clf1, clf2, clf3, sclf], \n",
        "                         ['KNN', \n",
        "                          'Random Forest', \n",
        "                          'Naive Bayes',\n",
        "                          'StackingCVClassifier'],\n",
        "                          itertools.product([0, 1], repeat=2)):\n",
        "\n",
        "    clf.fit(X, y)\n",
        "    ax = plt.subplot(gs[grd[0], grd[1]])\n",
        "    fig = plot_decision_regions(X=X, y=y, clf=clf)\n",
        "    plt.title(lab)\n",
        "plt.show()"
      ],
      "execution_count": 5,
      "outputs": [
        {
          "output_type": "display_data",
          "data": {
            "image/png": "[encoded data removed]",
            "text/plain": [
              "<matplotlib.figure.Figure at 0x7fb5915370d0>"
            ]
          },
          "metadata": {
            "tags": []
          }
        }
      ]
    },
    {
      "metadata": {
        "id": "YtygC8q_iHFh",
        "colab_type": "text"
      },
      "cell_type": "markdown",
      "source": [
        "## Using Probabilities as Meta-Features\n",
        "Alternatively, the class-probabilities of the first-level classifiers can be used to train the meta-classifier (2nd-level classifier) by setting use_probas=True. For example, in a 3-class setting with 2 level-1 classifiers, these classifiers may make the following \"probability\" predictions for 1 training sample:\n",
        "\n",
        "classifier 1: [0.2, 0.5, 0.3]\n",
        "classifier 2: [0.3, 0.4, 0.4]\n",
        "This results in k features, where k = [n_classes * n_classifiers], by stacking these level-1 probabilities:\n",
        "\n",
        "[0.2, 0.5, 0.3, 0.3, 0.4, 0.4]"
      ]
    },
    {
      "metadata": {
        "id": "f3o1JuGyiCnA",
        "colab_type": "code",
        "colab": {
          "base_uri": "https://localhost:8080/",
          "height": 119
        },
        "outputId": "bcc999aa-dd60-4b6c-ae9a-fb20896cd7b4"
      },
      "cell_type": "code",
      "source": [
        "clf1 = KNeighborsClassifier(n_neighbors=1)\n",
        "clf2 = RandomForestClassifier(random_state=1)\n",
        "clf3 = GaussianNB()\n",
        "lr = LogisticRegression()\n",
        "\n",
        "# The StackingCVClassifier uses scikit-learn's check_cv\n",
        "# internally, which doesn't support a random seed. Thus\n",
        "# NumPy's random seed need to be specified explicitely for\n",
        "# deterministic behavior\n",
        "np.random.seed(RANDOM_SEED)\n",
        "sclf = StackingCVClassifier(classifiers=[clf1, clf2, clf3],\n",
        "                            use_probas=True,\n",
        "                            meta_classifier=lr)\n",
        "\n",
        "print('3-fold cross validation:\\n')\n",
        "\n",
        "for clf, label in zip([clf1, clf2, clf3, sclf], \n",
        "                      ['KNN', \n",
        "                       'Random Forest', \n",
        "                       'Naive Bayes',\n",
        "                       'StackingClassifier']):\n",
        "\n",
        "    scores = model_selection.cross_val_score(clf, X, y, \n",
        "                                              cv=3, scoring='accuracy')\n",
        "    print(\"Accuracy: %0.2f (+/- %0.2f) [%s]\" \n",
        "          % (scores.mean(), scores.std(), label))"
      ],
      "execution_count": 6,
      "outputs": [
        {
          "output_type": "stream",
          "text": [
            "3-fold cross validation:\n",
            "\n",
            "Accuracy: 0.91 (+/- 0.01) [KNN]\n",
            "Accuracy: 0.91 (+/- 0.06) [Random Forest]\n",
            "Accuracy: 0.92 (+/- 0.03) [Naive Bayes]\n",
            "Accuracy: 0.95 (+/- 0.04) [StackingClassifier]\n"
          ],
          "name": "stdout"
        }
      ]
    },
    {
      "metadata": {
        "id": "_7AlxvNqibv4",
        "colab_type": "text"
      },
      "cell_type": "markdown",
      "source": [
        "## Stacked CV Classification and GridSearch\n",
        "To set up a parameter grid for scikit-learn's GridSearch, we simply provide the estimator's names in the parameter grid -- in the special case of the meta-regressor, we append the 'meta-' prefix."
      ]
    },
    {
      "metadata": {
        "id": "wnnr4N_jiXuK",
        "colab_type": "code",
        "colab": {
          "base_uri": "https://localhost:8080/",
          "height": 187
        },
        "outputId": "ef543253-c0b0-424b-f824-cdcfae76cb68"
      },
      "cell_type": "code",
      "source": [
        "from sklearn.linear_model import LogisticRegression\n",
        "from sklearn.neighbors import KNeighborsClassifier\n",
        "from sklearn.naive_bayes import GaussianNB \n",
        "from sklearn.ensemble import RandomForestClassifier\n",
        "from sklearn.model_selection import GridSearchCV\n",
        "from mlxtend.classifier import StackingCVClassifier\n",
        "\n",
        "# Initializing models\n",
        "\n",
        "clf1 = KNeighborsClassifier(n_neighbors=1)\n",
        "clf2 = RandomForestClassifier(random_state=RANDOM_SEED)\n",
        "clf3 = GaussianNB()\n",
        "lr = LogisticRegression()\n",
        "\n",
        "# The StackingCVClassifier uses scikit-learn's check_cv\n",
        "# internally, which doesn't support a random seed. Thus\n",
        "# NumPy's random seed need to be specified explicitely for\n",
        "# deterministic behavior\n",
        "np.random.seed(RANDOM_SEED)\n",
        "sclf = StackingCVClassifier(classifiers=[clf1, clf2, clf3], \n",
        "                            meta_classifier=lr)\n",
        "\n",
        "params = {'kneighborsclassifier__n_neighbors': [1, 5],\n",
        "          'randomforestclassifier__n_estimators': [10, 50],\n",
        "          'meta-logisticregression__C': [0.1, 10.0]}\n",
        "\n",
        "grid = GridSearchCV(estimator=sclf, \n",
        "                    param_grid=params, \n",
        "                    cv=5,\n",
        "                    refit=True)\n",
        "grid.fit(X, y)\n",
        "\n",
        "cv_keys = ('mean_test_score', 'std_test_score', 'params')\n",
        "\n",
        "for r, _ in enumerate(grid.cv_results_['mean_test_score']):\n",
        "    print(\"%0.3f +/- %0.2f %r\"\n",
        "          % (grid.cv_results_[cv_keys[0]][r],\n",
        "             grid.cv_results_[cv_keys[1]][r] / 2.0,\n",
        "             grid.cv_results_[cv_keys[2]][r]))\n",
        "\n",
        "print('Best parameters: %s' % grid.best_params_)\n",
        "print('Accuracy: %.2f' % grid.best_score_)"
      ],
      "execution_count": 7,
      "outputs": [
        {
          "output_type": "stream",
          "text": [
            "0.673 +/- 0.01 {'meta-logisticregression__C': 0.1, 'randomforestclassifier__n_estimators': 10, 'kneighborsclassifier__n_neighbors': 1}\n",
            "0.667 +/- 0.00 {'meta-logisticregression__C': 0.1, 'randomforestclassifier__n_estimators': 50, 'kneighborsclassifier__n_neighbors': 1}\n",
            "0.920 +/- 0.02 {'meta-logisticregression__C': 10.0, 'randomforestclassifier__n_estimators': 10, 'kneighborsclassifier__n_neighbors': 1}\n",
            "0.893 +/- 0.02 {'meta-logisticregression__C': 10.0, 'randomforestclassifier__n_estimators': 50, 'kneighborsclassifier__n_neighbors': 1}\n",
            "0.667 +/- 0.00 {'meta-logisticregression__C': 0.1, 'randomforestclassifier__n_estimators': 10, 'kneighborsclassifier__n_neighbors': 5}\n",
            "0.667 +/- 0.00 {'meta-logisticregression__C': 0.1, 'randomforestclassifier__n_estimators': 50, 'kneighborsclassifier__n_neighbors': 5}\n",
            "0.947 +/- 0.02 {'meta-logisticregression__C': 10.0, 'randomforestclassifier__n_estimators': 10, 'kneighborsclassifier__n_neighbors': 5}\n",
            "0.947 +/- 0.02 {'meta-logisticregression__C': 10.0, 'randomforestclassifier__n_estimators': 50, 'kneighborsclassifier__n_neighbors': 5}\n",
            "Best parameters: {'meta-logisticregression__C': 10.0, 'randomforestclassifier__n_estimators': 10, 'kneighborsclassifier__n_neighbors': 5}\n",
            "Accuracy: 0.95\n"
          ],
          "name": "stdout"
        }
      ]
    },
    {
      "metadata": {
        "id": "_rntqmitimnn",
        "colab_type": "text"
      },
      "cell_type": "markdown",
      "source": [
        "In case we are planning to use a regression algorithm multiple times, all we need to do is to add an additional number suffix in the parameter grid as shown below:"
      ]
    },
    {
      "metadata": {
        "id": "A7dmnIPgihtp",
        "colab_type": "code",
        "colab": {
          "base_uri": "https://localhost:8080/",
          "height": 323
        },
        "outputId": "69d51ac0-1428-440b-a1f4-6e8fe94aee65"
      },
      "cell_type": "code",
      "source": [
        "from sklearn.model_selection import GridSearchCV\n",
        "\n",
        "# Initializing models\n",
        "\n",
        "clf1 = KNeighborsClassifier(n_neighbors=1)\n",
        "clf2 = RandomForestClassifier(random_state=RANDOM_SEED)\n",
        "clf3 = GaussianNB()\n",
        "lr = LogisticRegression()\n",
        "\n",
        "# The StackingCVClassifier uses scikit-learn's check_cv\n",
        "# internally, which doesn't support a random seed. Thus\n",
        "# NumPy's random seed need to be specified explicitely for\n",
        "# deterministic behavior\n",
        "np.random.seed(RANDOM_SEED)\n",
        "sclf = StackingCVClassifier(classifiers=[clf1, clf1, clf2, clf3], \n",
        "                            meta_classifier=lr)\n",
        "\n",
        "params = {'kneighborsclassifier-1__n_neighbors': [1, 5],\n",
        "          'kneighborsclassifier-2__n_neighbors': [1, 5],\n",
        "          'randomforestclassifier__n_estimators': [10, 50],\n",
        "          'meta-logisticregression__C': [0.1, 10.0]}\n",
        "\n",
        "grid = GridSearchCV(estimator=sclf, \n",
        "                    param_grid=params, \n",
        "                    cv=5,\n",
        "                    refit=True)\n",
        "grid.fit(X, y)\n",
        "\n",
        "cv_keys = ('mean_test_score', 'std_test_score', 'params')\n",
        "\n",
        "for r, _ in enumerate(grid.cv_results_['mean_test_score']):\n",
        "    print(\"%0.3f +/- %0.2f %r\"\n",
        "          % (grid.cv_results_[cv_keys[0]][r],\n",
        "             grid.cv_results_[cv_keys[1]][r] / 2.0,\n",
        "             grid.cv_results_[cv_keys[2]][r]))\n",
        "\n",
        "print('Best parameters: %s' % grid.best_params_)\n",
        "print('Accuracy: %.2f' % grid.best_score_)"
      ],
      "execution_count": 8,
      "outputs": [
        {
          "output_type": "stream",
          "text": [
            "0.673 +/- 0.01 {'kneighborsclassifier-1__n_neighbors': 1, 'kneighborsclassifier-2__n_neighbors': 1, 'randomforestclassifier__n_estimators': 10, 'meta-logisticregression__C': 0.1}\n",
            "0.667 +/- 0.00 {'kneighborsclassifier-1__n_neighbors': 1, 'kneighborsclassifier-2__n_neighbors': 1, 'randomforestclassifier__n_estimators': 50, 'meta-logisticregression__C': 0.1}\n",
            "0.920 +/- 0.02 {'kneighborsclassifier-1__n_neighbors': 1, 'kneighborsclassifier-2__n_neighbors': 1, 'randomforestclassifier__n_estimators': 10, 'meta-logisticregression__C': 10.0}\n",
            "0.893 +/- 0.02 {'kneighborsclassifier-1__n_neighbors': 1, 'kneighborsclassifier-2__n_neighbors': 1, 'randomforestclassifier__n_estimators': 50, 'meta-logisticregression__C': 10.0}\n",
            "0.667 +/- 0.00 {'kneighborsclassifier-1__n_neighbors': 1, 'kneighborsclassifier-2__n_neighbors': 5, 'randomforestclassifier__n_estimators': 10, 'meta-logisticregression__C': 0.1}\n",
            "0.667 +/- 0.00 {'kneighborsclassifier-1__n_neighbors': 1, 'kneighborsclassifier-2__n_neighbors': 5, 'randomforestclassifier__n_estimators': 50, 'meta-logisticregression__C': 0.1}\n",
            "0.947 +/- 0.02 {'kneighborsclassifier-1__n_neighbors': 1, 'kneighborsclassifier-2__n_neighbors': 5, 'randomforestclassifier__n_estimators': 10, 'meta-logisticregression__C': 10.0}\n",
            "0.940 +/- 0.02 {'kneighborsclassifier-1__n_neighbors': 1, 'kneighborsclassifier-2__n_neighbors': 5, 'randomforestclassifier__n_estimators': 50, 'meta-logisticregression__C': 10.0}\n",
            "0.667 +/- 0.00 {'kneighborsclassifier-1__n_neighbors': 5, 'kneighborsclassifier-2__n_neighbors': 1, 'randomforestclassifier__n_estimators': 10, 'meta-logisticregression__C': 0.1}\n",
            "0.667 +/- 0.00 {'kneighborsclassifier-1__n_neighbors': 5, 'kneighborsclassifier-2__n_neighbors': 1, 'randomforestclassifier__n_estimators': 50, 'meta-logisticregression__C': 0.1}\n",
            "0.953 +/- 0.02 {'kneighborsclassifier-1__n_neighbors': 5, 'kneighborsclassifier-2__n_neighbors': 1, 'randomforestclassifier__n_estimators': 10, 'meta-logisticregression__C': 10.0}\n",
            "0.927 +/- 0.03 {'kneighborsclassifier-1__n_neighbors': 5, 'kneighborsclassifier-2__n_neighbors': 1, 'randomforestclassifier__n_estimators': 50, 'meta-logisticregression__C': 10.0}\n",
            "0.667 +/- 0.00 {'kneighborsclassifier-1__n_neighbors': 5, 'kneighborsclassifier-2__n_neighbors': 5, 'randomforestclassifier__n_estimators': 10, 'meta-logisticregression__C': 0.1}\n",
            "0.667 +/- 0.00 {'kneighborsclassifier-1__n_neighbors': 5, 'kneighborsclassifier-2__n_neighbors': 5, 'randomforestclassifier__n_estimators': 50, 'meta-logisticregression__C': 0.1}\n",
            "0.940 +/- 0.03 {'kneighborsclassifier-1__n_neighbors': 5, 'kneighborsclassifier-2__n_neighbors': 5, 'randomforestclassifier__n_estimators': 10, 'meta-logisticregression__C': 10.0}\n",
            "0.940 +/- 0.03 {'kneighborsclassifier-1__n_neighbors': 5, 'kneighborsclassifier-2__n_neighbors': 5, 'randomforestclassifier__n_estimators': 50, 'meta-logisticregression__C': 10.0}\n",
            "Best parameters: {'kneighborsclassifier-1__n_neighbors': 5, 'kneighborsclassifier-2__n_neighbors': 1, 'randomforestclassifier__n_estimators': 10, 'meta-logisticregression__C': 10.0}\n",
            "Accuracy: 0.95\n"
          ],
          "name": "stdout"
        }
      ]
    },
    {
      "metadata": {
        "id": "GSCNMJoyi6VQ",
        "colab_type": "text"
      },
      "cell_type": "markdown",
      "source": [
        "### Note\n",
        "\n",
        "The StackingCVClassifier also enables grid search over the classifiers argument. However, due to the current implementation of GridSearchCV in scikit-learn, it is not possible to search over both, differenct classifiers and classifier parameters at the same time. For instance, while the following parameter dictionary works\n",
        "\n",
        "params = {'randomforestclassifier__n_estimators': [1, 100],\n",
        "'classifiers': [(clf1, clf1, clf1), (clf2, clf3)]}\n",
        "it will use the instance settings of clf1, clf2, and clf3 and not overwrite it with the 'n_estimators' settings from 'randomforestclassifier__n_estimators': [1, 100].\n",
        "\n"
      ]
    },
    {
      "metadata": {
        "id": "t6JpZLrMjDMK",
        "colab_type": "text"
      },
      "cell_type": "markdown",
      "source": [
        "## Stacking of Classifiers that Operate on Different Feature Subsets\n",
        "The different level-1 classifiers can be fit to different subsets of features in the training dataset. The following example illustrates how this can be done on a technical level using scikit-learn pipelines and the ColumnSelector:"
      ]
    },
    {
      "metadata": {
        "id": "JV25escGiqTh",
        "colab_type": "code",
        "colab": {
          "base_uri": "https://localhost:8080/",
          "height": 238
        },
        "outputId": "1ce409ab-5272-4fc4-e1a3-39cc051dc051"
      },
      "cell_type": "code",
      "source": [
        "from sklearn.datasets import load_iris\n",
        "from mlxtend.classifier import StackingCVClassifier\n",
        "from mlxtend.feature_selection import ColumnSelector\n",
        "from sklearn.pipeline import make_pipeline\n",
        "from sklearn.linear_model import LogisticRegression\n",
        "\n",
        "iris = load_iris()\n",
        "X = iris.data\n",
        "y = iris.target\n",
        "\n",
        "pipe1 = make_pipeline(ColumnSelector(cols=(0, 2)),\n",
        "                      LogisticRegression())\n",
        "pipe2 = make_pipeline(ColumnSelector(cols=(1, 2, 3)),\n",
        "                      LogisticRegression())\n",
        "\n",
        "sclf = StackingCVClassifier(classifiers=[pipe1, pipe2], \n",
        "                            meta_classifier=LogisticRegression())\n",
        "\n",
        "sclf.fit(X, y)"
      ],
      "execution_count": 9,
      "outputs": [
        {
          "output_type": "execute_result",
          "data": {
            "text/plain": [
              "StackingCVClassifier(classifiers=[Pipeline(memory=None,\n",
              "     steps=[('columnselector', ColumnSelector(cols=(0, 2), drop_axis=False)), ('logisticregression', LogisticRegression(C=1.0, class_weight=None, dual=False, fit_intercept=True,\n",
              "          intercept_scaling=1, max_iter=100, multi_class='ovr', n_jobs=1,\n",
              "          pen...='l2', random_state=None, solver='liblinear', tol=0.0001,\n",
              "          verbose=0, warm_start=False))])],\n",
              "           cv=2,\n",
              "           meta_classifier=LogisticRegression(C=1.0, class_weight=None, dual=False, fit_intercept=True,\n",
              "          intercept_scaling=1, max_iter=100, multi_class='ovr', n_jobs=1,\n",
              "          penalty='l2', random_state=None, solver='liblinear', tol=0.0001,\n",
              "          verbose=0, warm_start=False),\n",
              "           refit=True, shuffle=True, store_train_meta_features=False,\n",
              "           stratify=True, use_features_in_secondary=False,\n",
              "           use_probas=False, verbose=0)"
            ]
          },
          "metadata": {
            "tags": []
          },
          "execution_count": 9
        }
      ]
    },
    {
      "metadata": {
        "id": "0noV16yOjIOv",
        "colab_type": "code",
        "colab": {}
      },
      "cell_type": "code",
      "source": [
        ""
      ],
      "execution_count": 0,
      "outputs": []
    }
  ]
}